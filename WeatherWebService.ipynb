{
 "cells": [
  {
   "cell_type": "code",
   "execution_count": 7,
   "metadata": {},
   "outputs": [],
   "source": [
    "import requests\n",
    "import csv\n",
    "from datetime import datetime"
   ]
  },
  {
   "cell_type": "code",
   "execution_count": 8,
   "metadata": {},
   "outputs": [],
   "source": [
    "request = \"https://www.metaweather.com/api/location/1521894/\""
   ]
  },
  {
   "cell_type": "code",
   "execution_count": 9,
   "metadata": {},
   "outputs": [],
   "source": [
    "response = requests.get(request)"
   ]
  },
  {
   "cell_type": "code",
   "execution_count": 4,
   "metadata": {},
   "outputs": [],
   "source": [
    "json_response = response.json()"
   ]
  },
  {
   "cell_type": "code",
   "execution_count": 5,
   "metadata": {},
   "outputs": [
    {
     "data": {
      "text/plain": [
       "{'consolidated_weather': [{'id': 4736219536687104,\n",
       "   'weather_state_name': 'Clear',\n",
       "   'weather_state_abbr': 'c',\n",
       "   'wind_direction_compass': 'NE',\n",
       "   'created': '2021-10-09T16:34:22.077262Z',\n",
       "   'applicable_date': '2021-10-09',\n",
       "   'min_temp': 19.015,\n",
       "   'max_temp': 32.480000000000004,\n",
       "   'the_temp': 30.770000000000003,\n",
       "   'wind_speed': 8.574956447999682,\n",
       "   'wind_direction': 38.02799072367042,\n",
       "   'air_pressure': 1015.0,\n",
       "   'humidity': 46,\n",
       "   'visibility': 14.12190308597789,\n",
       "   'predictability': 68},\n",
       "  {'id': 4545154787573760,\n",
       "   'weather_state_name': 'Clear',\n",
       "   'weather_state_abbr': 'c',\n",
       "   'wind_direction_compass': 'NE',\n",
       "   'created': '2021-10-09T16:34:25.081139Z',\n",
       "   'applicable_date': '2021-10-10',\n",
       "   'min_temp': 19.189999999999998,\n",
       "   'max_temp': 33.43,\n",
       "   'the_temp': 31.655,\n",
       "   'wind_speed': 9.377185259675494,\n",
       "   'wind_direction': 40.332278943163466,\n",
       "   'air_pressure': 1015.0,\n",
       "   'humidity': 43,\n",
       "   'visibility': 14.176894436490892,\n",
       "   'predictability': 68},\n",
       "  {'id': 5833446577405952,\n",
       "   'weather_state_name': 'Light Cloud',\n",
       "   'weather_state_abbr': 'lc',\n",
       "   'wind_direction_compass': 'NE',\n",
       "   'created': '2021-10-09T16:34:28.274670Z',\n",
       "   'applicable_date': '2021-10-11',\n",
       "   'min_temp': 20.47,\n",
       "   'max_temp': 33.535,\n",
       "   'the_temp': 31.685000000000002,\n",
       "   'wind_speed': 8.267437466884063,\n",
       "   'wind_direction': 33.9842514889627,\n",
       "   'air_pressure': 1013.0,\n",
       "   'humidity': 46,\n",
       "   'visibility': 13.898520142368568,\n",
       "   'predictability': 70},\n",
       "  {'id': 4709248844955648,\n",
       "   'weather_state_name': 'Clear',\n",
       "   'weather_state_abbr': 'c',\n",
       "   'wind_direction_compass': 'NE',\n",
       "   'created': '2021-10-09T16:34:31.679388Z',\n",
       "   'applicable_date': '2021-10-12',\n",
       "   'min_temp': 20.275,\n",
       "   'max_temp': 33.5,\n",
       "   'the_temp': 31.14,\n",
       "   'wind_speed': 7.418112686354358,\n",
       "   'wind_direction': 41.0,\n",
       "   'air_pressure': 1011.0,\n",
       "   'humidity': 48,\n",
       "   'visibility': 13.891995744850075,\n",
       "   'predictability': 68},\n",
       "  {'id': 4661325708918784,\n",
       "   'weather_state_name': 'Light Cloud',\n",
       "   'weather_state_abbr': 'lc',\n",
       "   'wind_direction_compass': 'NNE',\n",
       "   'created': '2021-10-09T16:34:34.074061Z',\n",
       "   'applicable_date': '2021-10-13',\n",
       "   'min_temp': 21.07,\n",
       "   'max_temp': 32.480000000000004,\n",
       "   'the_temp': 30.674999999999997,\n",
       "   'wind_speed': 6.811318050587237,\n",
       "   'wind_direction': 30.483521443416613,\n",
       "   'air_pressure': 1013.0,\n",
       "   'humidity': 49,\n",
       "   'visibility': 13.957861091227233,\n",
       "   'predictability': 70},\n",
       "  {'id': 5270496623984640,\n",
       "   'weather_state_name': 'Clear',\n",
       "   'weather_state_abbr': 'c',\n",
       "   'wind_direction_compass': 'ENE',\n",
       "   'created': '2021-10-09T16:34:37.763812Z',\n",
       "   'applicable_date': '2021-10-14',\n",
       "   'min_temp': 21.1,\n",
       "   'max_temp': 32.295,\n",
       "   'the_temp': 30.08,\n",
       "   'wind_speed': 5.793631790344389,\n",
       "   'wind_direction': 57.5,\n",
       "   'air_pressure': 1015.0,\n",
       "   'humidity': 50,\n",
       "   'visibility': 9.999726596675416,\n",
       "   'predictability': 68}],\n",
       " 'time': '2021-10-09T20:40:20.856612+02:00',\n",
       " 'sun_rise': '2021-10-09T05:53:07.629744+02:00',\n",
       " 'sun_set': '2021-10-09T17:30:54.435728+02:00',\n",
       " 'timezone_name': 'LMT',\n",
       " 'parent': {'title': 'Egypt',\n",
       "  'location_type': 'Country',\n",
       "  'woeid': 23424802,\n",
       "  'latt_long': '26.837090,30.796391'},\n",
       " 'sources': [{'title': 'BBC',\n",
       "   'slug': 'bbc',\n",
       "   'url': 'http://www.bbc.co.uk/weather/',\n",
       "   'crawl_rate': 360},\n",
       "  {'title': 'Forecast.io',\n",
       "   'slug': 'forecast-io',\n",
       "   'url': 'http://forecast.io/',\n",
       "   'crawl_rate': 480},\n",
       "  {'title': 'HAMweather',\n",
       "   'slug': 'hamweather',\n",
       "   'url': 'http://www.hamweather.com/',\n",
       "   'crawl_rate': 360},\n",
       "  {'title': 'Met Office',\n",
       "   'slug': 'met-office',\n",
       "   'url': 'http://www.metoffice.gov.uk/',\n",
       "   'crawl_rate': 180},\n",
       "  {'title': 'OpenWeatherMap',\n",
       "   'slug': 'openweathermap',\n",
       "   'url': 'http://openweathermap.org/',\n",
       "   'crawl_rate': 360},\n",
       "  {'title': 'Weather Underground',\n",
       "   'slug': 'wunderground',\n",
       "   'url': 'https://www.wunderground.com/?apiref=fc30dc3cd224e19b',\n",
       "   'crawl_rate': 720},\n",
       "  {'title': 'World Weather Online',\n",
       "   'slug': 'world-weather-online',\n",
       "   'url': 'http://www.worldweatheronline.com/',\n",
       "   'crawl_rate': 360}],\n",
       " 'title': 'Cairo',\n",
       " 'location_type': 'City',\n",
       " 'woeid': 1521894,\n",
       " 'latt_long': '30.049950,31.248600',\n",
       " 'timezone': 'Africa/Cairo'}"
      ]
     },
     "execution_count": 5,
     "metadata": {},
     "output_type": "execute_result"
    }
   ],
   "source": [
    "json_response"
   ]
  },
  {
   "cell_type": "code",
   "execution_count": 30,
   "metadata": {},
   "outputs": [
    {
     "data": {
      "text/plain": [
       "'WeatherData-10092021.csv'"
      ]
     },
     "execution_count": 30,
     "metadata": {},
     "output_type": "execute_result"
    }
   ],
   "source": [
    "file_name = f'WeatherData-{datetime.now().strftime(\"%m%d%Y\")}.csv'\n",
    "file_name"
   ]
  },
  {
   "cell_type": "code",
   "execution_count": 34,
   "metadata": {},
   "outputs": [],
   "source": [
    "with open(file_name,'w', newline='') as f:\n",
    "    fh = csv.DictWriter(f,['temp', 'humidity', 'visibility', 'pressure', 'wind_speed', 'datetime'] )\n",
    "    fh.writeheader()\n",
    "    for data in json_response[\"consolidated_weather\"]:\n",
    "        temp = data['the_temp']\n",
    "        humidity = data['humidity']\n",
    "        visibility = data['visibility']\n",
    "        presure = data['air_pressure']\n",
    "        wind_speed = data['wind_speed']\n",
    "        dt = data['applicable_date']\n",
    "        fh.writerow({'temp':temp, 'humidity':humidity, 'visibility':visibility, 'pressure':presure, 'wind_speed':wind_speed, 'datetime':dt})\n",
    "        \n",
    "    "
   ]
  },
  {
   "cell_type": "code",
   "execution_count": 43,
   "metadata": {},
   "outputs": [],
   "source": [
    "import pandas as pd"
   ]
  },
  {
   "cell_type": "code",
   "execution_count": 44,
   "metadata": {},
   "outputs": [],
   "source": [
    "weather_data = pd.read_csv(file_name)"
   ]
  },
  {
   "cell_type": "code",
   "execution_count": 46,
   "metadata": {},
   "outputs": [
    {
     "data": {
      "text/html": [
       "<div>\n",
       "<style scoped>\n",
       "    .dataframe tbody tr th:only-of-type {\n",
       "        vertical-align: middle;\n",
       "    }\n",
       "\n",
       "    .dataframe tbody tr th {\n",
       "        vertical-align: top;\n",
       "    }\n",
       "\n",
       "    .dataframe thead th {\n",
       "        text-align: right;\n",
       "    }\n",
       "</style>\n",
       "<table border=\"1\" class=\"dataframe\">\n",
       "  <thead>\n",
       "    <tr style=\"text-align: right;\">\n",
       "      <th></th>\n",
       "      <th>temp</th>\n",
       "      <th>humidity</th>\n",
       "      <th>visibility</th>\n",
       "      <th>pressure</th>\n",
       "      <th>wind_speed</th>\n",
       "      <th>datetime</th>\n",
       "    </tr>\n",
       "  </thead>\n",
       "  <tbody>\n",
       "    <tr>\n",
       "      <th>0</th>\n",
       "      <td>30.770</td>\n",
       "      <td>46</td>\n",
       "      <td>14.121903</td>\n",
       "      <td>1015.0</td>\n",
       "      <td>8.574956</td>\n",
       "      <td>2021-10-09</td>\n",
       "    </tr>\n",
       "    <tr>\n",
       "      <th>1</th>\n",
       "      <td>31.655</td>\n",
       "      <td>43</td>\n",
       "      <td>14.176894</td>\n",
       "      <td>1015.0</td>\n",
       "      <td>9.377185</td>\n",
       "      <td>2021-10-10</td>\n",
       "    </tr>\n",
       "    <tr>\n",
       "      <th>2</th>\n",
       "      <td>31.685</td>\n",
       "      <td>46</td>\n",
       "      <td>13.898520</td>\n",
       "      <td>1013.0</td>\n",
       "      <td>8.267437</td>\n",
       "      <td>2021-10-11</td>\n",
       "    </tr>\n",
       "    <tr>\n",
       "      <th>3</th>\n",
       "      <td>31.140</td>\n",
       "      <td>48</td>\n",
       "      <td>13.891996</td>\n",
       "      <td>1011.0</td>\n",
       "      <td>7.418113</td>\n",
       "      <td>2021-10-12</td>\n",
       "    </tr>\n",
       "    <tr>\n",
       "      <th>4</th>\n",
       "      <td>30.675</td>\n",
       "      <td>49</td>\n",
       "      <td>13.957861</td>\n",
       "      <td>1013.0</td>\n",
       "      <td>6.811318</td>\n",
       "      <td>2021-10-13</td>\n",
       "    </tr>\n",
       "  </tbody>\n",
       "</table>\n",
       "</div>"
      ],
      "text/plain": [
       "     temp  humidity  visibility  pressure  wind_speed    datetime\n",
       "0  30.770        46   14.121903    1015.0    8.574956  2021-10-09\n",
       "1  31.655        43   14.176894    1015.0    9.377185  2021-10-10\n",
       "2  31.685        46   13.898520    1013.0    8.267437  2021-10-11\n",
       "3  31.140        48   13.891996    1011.0    7.418113  2021-10-12\n",
       "4  30.675        49   13.957861    1013.0    6.811318  2021-10-13"
      ]
     },
     "execution_count": 46,
     "metadata": {},
     "output_type": "execute_result"
    }
   ],
   "source": [
    "weather_data.head()"
   ]
  },
  {
   "cell_type": "code",
   "execution_count": null,
   "metadata": {},
   "outputs": [],
   "source": []
  }
 ],
 "metadata": {
  "kernelspec": {
   "display_name": "Python 3",
   "language": "python",
   "name": "python3"
  },
  "language_info": {
   "codemirror_mode": {
    "name": "ipython",
    "version": 3
   },
   "file_extension": ".py",
   "mimetype": "text/x-python",
   "name": "python",
   "nbconvert_exporter": "python",
   "pygments_lexer": "ipython3",
   "version": "3.8.5"
  }
 },
 "nbformat": 4,
 "nbformat_minor": 4
}
